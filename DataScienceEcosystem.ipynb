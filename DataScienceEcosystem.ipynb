{
  "metadata": {
    "kernelspec": {
      "name": "python",
      "display_name": "Python (Pyodide)",
      "language": "python"
    },
    "language_info": {
      "codemirror_mode": {
        "name": "python",
        "version": 3
      },
      "file_extension": ".py",
      "mimetype": "text/x-python",
      "name": "python",
      "nbconvert_exporter": "python",
      "pygments_lexer": "ipython3",
      "version": "3.8"
    }
  },
  "nbformat_minor": 5,
  "nbformat": 4,
  "cells": [
    {
      "id": "96fe8da5-c4ea-480a-9b8f-132444458161",
      "cell_type": "markdown",
      "source": "# H1: Data Science Tools and Ecosystem",
      "metadata": {}
    },
    {
      "id": "26df8095-fc18-48bf-978e-4a5618fbaa9d",
      "cell_type": "markdown",
      "source": "# In this notebook, Data Science Tools and Ecosystem are summarised.",
      "metadata": {}
    },
    {
      "id": "3cafe007-86a9-48f1-a94f-343730a76189",
      "cell_type": "markdown",
      "source": "***Objectives:***\n- Python\n- Java\n- Javascript\n- Scala\n  ",
      "metadata": {}
    },
    {
      "id": "d96649e2-5e9c-434b-bb4c-d288554cbff3",
      "cell_type": "markdown",
      "source": "# Some of the commonly used libraries used by Data Scientists include:\n1. Pandas\n2. Sciskit-learn\n3. TensorFlow",
      "metadata": {}
    },
    {
      "id": "6038f095-b43a-4c01-b8dc-65a34caf33af",
      "cell_type": "markdown",
      "source": "| Data Science Tools |\n|--------------------|\n| Apache Hadoop |\n| Apache Spark |\n| TensorFlow |",
      "metadata": {}
    },
    {
      "id": "7344d65c-5d7c-4325-ae4f-4b1f58d9eb06",
      "cell_type": "markdown",
      "source": "# H3: Below are a few examples of evaluating arithmetic expressions in Python",
      "metadata": {}
    },
    {
      "id": "8a7328f8-dbd3-45d8-a036-3aeb1ce99ab7",
      "cell_type": "code",
      "source": "# This is a simple arithmetic expression to multiply then add integers\n(3*4)+5 ",
      "metadata": {
        "trusted": true
      },
      "outputs": [
        {
          "execution_count": 1,
          "output_type": "execute_result",
          "data": {
            "text/plain": "17"
          },
          "metadata": {}
        }
      ],
      "execution_count": 1
    },
    {
      "id": "d1baba1c-2c0e-42e5-a692-f59f7072c77d",
      "cell_type": "code",
      "source": "# This will convert 200 minutes to hours by dividing by 60\n200/60",
      "metadata": {
        "trusted": true
      },
      "outputs": [
        {
          "execution_count": 4,
          "output_type": "execute_result",
          "data": {
            "text/plain": "3.3333333333333335"
          },
          "metadata": {}
        }
      ],
      "execution_count": 4
    },
    {
      "id": "d498b8ac-2a2f-4a7e-bb1e-182d7eb99e51",
      "cell_type": "markdown",
      "source": "# H2: Author\nKealeboga Molete",
      "metadata": {}
    },
    {
      "id": "429ee2ea-1451-411b-b056-8543e97a107e",
      "cell_type": "code",
      "source": "",
      "metadata": {
        "trusted": true
      },
      "outputs": [],
      "execution_count": null
    }
  ]
}